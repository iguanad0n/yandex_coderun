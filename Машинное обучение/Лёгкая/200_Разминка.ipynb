{
 "cells": [
  {
   "cell_type": "code",
   "execution_count": null,
   "metadata": {},
   "outputs": [],
   "source": [
    "# **Разминка**\n",
    "\n",
    "Дан обучающий сет с численными признаками. Дополнительно известно, что целевая функция f:R^100→R линейная и гарантированно зависит от всех признаков.\n",
    "\n",
    "Требуется найти целевую функцию.\n",
    "\n",
    "Решение будет зачтено, если абсолютная ошибка на каждом примере не превышает 10^(−8).\n",
    "\n",
    "## **Формат ввода**\n",
    "Обучающий датасет train.tsv находится в архиве, доступном по адресу.\n",
    "\n",
    "Формат данных: в каждой строке содержатся значения 100 признаков, 101-е число в каждой строке — значение целевой функции на этом наборе.\n",
    "\n",
    "Тестовый датасет test.tsv находится в архиве, доступном по адресу.\n",
    "\n",
    "Формат данных: в каждой строке содержатся значения 100 признаков.\n",
    "\n",
    "Каждый признак в датасетах, а также значение целевой функции — число с точностью 8 значащих цифр после десятичной точки.\n",
    "\n",
    "## **Формат вывода**\n",
    "\n",
    "    Необходимо предоставить файл answer.tsv, в котором в i-той строке будет записано предсказанное значение функции (число с точностью 8 значащих цифр после десятичной точки) для i-той строки тестового датасета."
   ]
  },
  {
   "cell_type": "code",
   "execution_count": null,
   "metadata": {},
   "outputs": [],
   "source": [
    "import pandas as pd\n",
    "from sklearn.linear_model import LinearRegression\n",
    "from sklearn.metrics import mean_squared_error\n",
    "\n",
    "train_df = pd.read_table('/home/yarus/Downloads/train.tsv')\n",
    "test_df = pd.read_table('/home/yarus/Downloads/test.tsv')\n",
    "\n",
    "X_train = train_df.iloc[:, :-1].values\n",
    "y_train = train_df.iloc[:, -1].values\n",
    "\n",
    "X_test = test_df.values\n",
    "\n",
    "reg = LinearRegression()\n",
    "reg.fit(X_train, y_train)\n",
    "\n",
    "pred = reg.predict(X_test)\n",
    "print(pred)\n",
    "pd.Series(pred).to_csv('answer.tsv', index=False, header=False, float_format='%.8f')"
   ]
  }
 ],
 "metadata": {
  "kernelspec": {
   "display_name": "Python 3 (ipykernel)",
   "language": "python",
   "name": "python3"
  },
  "language_info": {
   "codemirror_mode": {
    "name": "ipython",
    "version": 3
   },
   "file_extension": ".py",
   "mimetype": "text/x-python",
   "name": "python",
   "nbconvert_exporter": "python",
   "pygments_lexer": "ipython3",
   "version": "3.10.12"
  }
 },
 "nbformat": 4,
 "nbformat_minor": 4
}
