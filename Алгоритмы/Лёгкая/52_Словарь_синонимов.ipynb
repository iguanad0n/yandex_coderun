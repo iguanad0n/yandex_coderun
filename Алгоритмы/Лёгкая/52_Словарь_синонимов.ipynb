{
  "nbformat": 4,
  "nbformat_minor": 0,
  "metadata": {
    "colab": {
      "provenance": []
    },
    "kernelspec": {
      "name": "python3",
      "display_name": "Python 3"
    },
    "language_info": {
      "name": "python"
    }
  },
  "cells": [
    {
      "cell_type": "markdown",
      "source": [
        "# **Словарь синонимов**\n",
        "\n",
        "Ограничение времени 1 секунда\n",
        "Ограничение памяти 64Mb\n",
        "\n",
        "Ввод стандартный ввод или input.txt\n",
        "Вывод стандартный вывод или output.txt\n",
        "\n",
        "Вам дан словарь, состоящий из пар слов. Каждое слово является синонимом к парному ему слову. Все слова в словаре различны. Для одного данного слова определите его синоним.\n",
        "\n",
        "## **Формат ввода**\n",
        "Программа получает на вход количество пар синонимов N. Далее следует N строк, каждая строка содержит ровно два слова-синонима. После этого следует одно слово.\n",
        "\n",
        "## **Формат вывода**\n",
        "\n",
        "Программа должна вывести синоним к данному слову.\n"
      ],
      "metadata": {
        "id": "-WEI_v9qQaT4"
      }
    },
    {
      "cell_type": "code",
      "execution_count": null,
      "metadata": {
        "id": "L_jvr-RDteek"
      },
      "outputs": [],
      "source": [
        "import sys\n",
        "\n",
        "\n",
        "def main():\n",
        "    n = int(input())\n",
        "    dct = dict()\n",
        "    for _ in range(n):\n",
        "        a,b = input().split()\n",
        "        dct[a] = b\n",
        "        dct[b] = a\n",
        "    c = input()\n",
        "    print(dct[c])\n",
        "\n",
        "\n",
        "if __name__ == '__main__':\n",
        "    main()"
      ]
    }
  ]
}