{
  "nbformat": 4,
  "nbformat_minor": 0,
  "metadata": {
    "colab": {
      "provenance": []
    },
    "kernelspec": {
      "name": "python3",
      "display_name": "Python 3"
    },
    "language_info": {
      "name": "python"
    }
  },
  "cells": [
    {
      "cell_type": "markdown",
      "source": [
        "# **Номер появления слова**\n",
        "\n",
        "Ограничение времени 1 секунда\n",
        "Ограничение памяти 64Mb\n",
        "\n",
        "Ввод стандартный ввод или input.txt\n",
        "Вывод стандартный вывод или output.txt\n",
        "\n",
        "Во входном файле (вы можете читать данные из файла input.txt) записан текст. Словом считается последовательность непробельных символов идущих подряд, слова разделены одним или большим числом пробелов или символами конца строки. Для каждого слова из этого текста подсчитайте, сколько раз оно встречалось в этом тексте ранее.\n",
        "\n",
        "## **Формат ввода**\n",
        "Вводится текст.\n",
        "\n",
        "## **Формат вывода**\n",
        "\n",
        "Выведите ответ на задачу.\n"
      ],
      "metadata": {
        "id": "-WEI_v9qQaT4"
      }
    },
    {
      "cell_type": "code",
      "execution_count": null,
      "metadata": {
        "id": "L_jvr-RDteek"
      },
      "outputs": [],
      "source": [
        "import sys\n",
        "\n",
        "\n",
        "def main():\n",
        "    text = sys.stdin.read()\n",
        "    words = text.split()\n",
        "    word_counts = {}\n",
        "\n",
        "    for word in words:\n",
        "        count = word_counts.get(word, 0)\n",
        "        print(count, end=' ')\n",
        "        word_counts[word] = count + 1\n",
        "\n",
        "if __name__ == '__main__':\n",
        "    main()"
      ]
    }
  ]
}