{
  "nbformat": 4,
  "nbformat_minor": 0,
  "metadata": {
    "colab": {
      "provenance": []
    },
    "kernelspec": {
      "name": "python3",
      "display_name": "Python 3"
    },
    "language_info": {
      "name": "python"
    }
  },
  "cells": [
    {
      "cell_type": "markdown",
      "source": [
        "# **Определить вид последовательности**\n",
        "\n",
        "Ограничение времени 1 секунда\n",
        "Ограничение памяти 64Mb\n",
        "\n",
        "Ввод стандартный ввод или input.txt\n",
        "Вывод стандартный вывод или output.txt\n",
        "\n",
        "По последовательности чисел во входных данных определите ее вид:\n",
        "\n",
        "CONSTANT — последовательность состоит из одинаковых значений\n",
        "\n",
        "ASCENDING — последовательность является строго возрастающей\n",
        "\n",
        "WEAKLY ASCENDING — последовательность является нестрого возрастающей\n",
        "\n",
        "DESCENDING — последовательность является строго убывающей\n",
        "\n",
        "WEAKLY DESCENDING — последовательность является нестрого убывающей\n",
        "\n",
        "RANDOM — последовательность не принадлежит ни к одному из вышеупомянутых типов\n",
        "\n",
        "## **Формат ввода**\n",
        "По одному на строке поступают числа последовательности ai,∣ai∣≤10^9.\n",
        "\n",
        "Признаком окончания последовательности является число −2×10^9. Оно в последовательность не входит.\n",
        "\n",
        "## **Формат вывода**\n",
        "\n",
        "В единственной строке выведите тип последовательности.\n"
      ],
      "metadata": {
        "id": "-WEI_v9qQaT4"
      }
    },
    {
      "cell_type": "code",
      "execution_count": null,
      "metadata": {
        "id": "L_jvr-RDteek"
      },
      "outputs": [],
      "source": [
        "import sys\n",
        "\n",
        "\n",
        "def main():\n",
        "    sequence = []\n",
        "    num = int(input())\n",
        "    while num != -2*10**9:\n",
        "        sequence.append(num)\n",
        "        num = int(input())\n",
        "    if len(set(sequence)) == 1:\n",
        "        print('CONSTANT')\n",
        "    elif all(sequence[i] < sequence[i + 1] for i in range(len(sequence) - 1)):\n",
        "        print('ASCENDING')\n",
        "    elif all(sequence[i] <= sequence[i + 1] for i in range(len(sequence) - 1)):\n",
        "        print('WEAKLY ASCENDING')\n",
        "    elif all(sequence[i] > sequence[i + 1] for i in range(len(sequence) - 1)):\n",
        "        print('DESCENDING')\n",
        "    elif all(sequence[i] >= sequence[i + 1] for i in range(len(sequence) - 1)):\n",
        "        print('WEAKLY DESCENDING')\n",
        "    else:\n",
        "        print('RANDOM')\n",
        "\n",
        "\n",
        "if __name__ == '__main__':\n",
        "    main()"
      ]
    }
  ]
}