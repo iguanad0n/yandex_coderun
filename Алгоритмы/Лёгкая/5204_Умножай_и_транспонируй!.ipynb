{
  "nbformat": 4,
  "nbformat_minor": 0,
  "metadata": {
    "colab": {
      "provenance": []
    },
    "kernelspec": {
      "name": "python3",
      "display_name": "Python 3"
    },
    "language_info": {
      "name": "python"
    }
  },
  "cells": [
    {
      "cell_type": "markdown",
      "source": [
        "# **Умножай и транспонируй!**\n",
        "\n",
        "Ограничение времени 1 секунда\n",
        "Ограничение памяти 64Mb\n",
        "\n",
        "Ввод стандартный ввод или input.txt\n",
        "Вывод стандартный вывод или output.txt\n",
        "\n",
        "Школьники из объединения КРОШ (Клуб Решателей Олимпиад Школьников) готовятся к участию в треке ML. Начать подготовку они решили с изучения линейной алгебры. Выяснилось, что существует две интересные операции над матрицами - умножение и траспонирование. Они составили много примеров и решают их на листике, однако им нужна помощь в проверке результатов. Напишите программу, которая по заданным матрицам A и B вычисляет:\n",
        "\n",
        "(A×B)^T,\n",
        "где A — матрица размером n×m, а B — матрица размером m×k.\n",
        "\n",
        "## **Формат ввода**\n",
        "В первой стоке вводятся 3 числа n,m,k (1≤n,m,k≤100).\n",
        "\n",
        "Далее следуют n строк по m чисел в каждой - элементы матрицы A (0≤Aij≤10).\n",
        "\n",
        "Затем вводятся m строк по k чисел в каждой - элементы матрицы B (0≤Bij≤10).\n",
        "\n",
        "\n",
        "\n",
        "## **Формат вывода**\n",
        "\n",
        "Выведите матрицу результата операции (A×B)^T.\n"
      ],
      "metadata": {
        "id": "-WEI_v9qQaT4"
      }
    },
    {
      "cell_type": "code",
      "execution_count": null,
      "metadata": {
        "id": "L_jvr-RDteek"
      },
      "outputs": [],
      "source": [
        "import sys\n",
        "\n",
        "\n",
        "def main():\n",
        "    n,m,k = map(int,input().split())\n",
        "    A = [list(map(int,input().split())) for _ in range(n)]\n",
        "    B = [list(map(int,input().split())) for _ in range(m)]\n",
        "\n",
        "    AB = [[0] * k for _ in range(n)]\n",
        "    for i in range(n):\n",
        "        for j in range(k):\n",
        "            for t in range(m):\n",
        "                AB[i][j] += A[i][t] * B[t][j]\n",
        "\n",
        "    AB_T = [[0] * n for _ in range(k)]\n",
        "    for i in range(n):\n",
        "        for j in range(k):\n",
        "            AB_T[j][i] = AB[i][j]\n",
        "\n",
        "    for row in AB_T:\n",
        "        print(*row)\n",
        "\n",
        "\n",
        "if __name__ == '__main__':\n",
        "    main()"
      ]
    }
  ]
}