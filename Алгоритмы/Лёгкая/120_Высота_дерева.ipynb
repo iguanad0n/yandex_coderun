{
  "nbformat": 4,
  "nbformat_minor": 0,
  "metadata": {
    "colab": {
      "provenance": []
    },
    "kernelspec": {
      "name": "python3",
      "display_name": "Python 3"
    },
    "language_info": {
      "name": "python"
    }
  },
  "cells": [
    {
      "cell_type": "markdown",
      "source": [
        "# **Высота дерева**\n",
        "\n",
        "Ограничение времени 1 секунда\n",
        "Ограничение памяти 64Mb\n",
        "\n",
        "Ввод стандартный ввод или input.txt\n",
        "Вывод стандартный вывод или output.txt\n",
        "\n",
        "Реализуйте бинарное дерево поиска для целых чисел.\n",
        "\n",
        "Программа должна последовательно обрабатывать вводимые числа. Если очередное число есть в дереве, ничего делать не нужно. Если числа в дереве нет, нужно добавить его в соответствующее место дерева.\n",
        "\n",
        "Балансировку дерева производить не нужно.\n",
        "\n",
        "Найдите высоту получившегося дерева.\n",
        "\n",
        "## **Формат ввода**\n",
        "На вход программа получает последовательность натуральных чисел. Последовательность завершается числом 0, которое означает конец ввода. Добавлять его в дерево не надо.\n",
        "\n",
        "В последней строке задаются номера двух вершин — начальной и конечной.\n",
        "\n",
        "Вершины нумеруются с единицы.\n",
        "\n",
        "## **Формат вывода**\n",
        "\n",
        "Выведите высоту получившегося дерева."
      ],
      "metadata": {
        "id": "-WEI_v9qQaT4"
      }
    },
    {
      "cell_type": "code",
      "execution_count": null,
      "metadata": {
        "id": "L_jvr-RDteek"
      },
      "outputs": [],
      "source": [
        "import sys\n",
        "\n",
        "def height(tree):\n",
        "    if tree is None:\n",
        "        return 0\n",
        "    return 1 + max(height(tree[1]), height(tree[2]))\n",
        "\n",
        "def insert(tree, value):\n",
        "    if tree is None:\n",
        "        return [value, None, None]\n",
        "    if value < tree[0]:\n",
        "        tree[1] = insert(tree[1], value)\n",
        "    elif value > tree[0]:\n",
        "        tree[2] = insert(tree[2], value)\n",
        "\n",
        "    return tree\n",
        "\n",
        "def main():\n",
        "    sequence = list(map(int, input().split()))\n",
        "    tree = None\n",
        "\n",
        "    for num in sequence:\n",
        "        if num == 0:\n",
        "            break\n",
        "        tree = insert(tree, num)\n",
        "\n",
        "    print(height(tree))\n",
        "\n",
        "\n",
        "if __name__ == '__main__':\n",
        "    main()"
      ]
    }
  ]
}