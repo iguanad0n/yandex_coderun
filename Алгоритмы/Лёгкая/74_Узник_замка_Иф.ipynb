{
  "nbformat": 4,
  "nbformat_minor": 0,
  "metadata": {
    "colab": {
      "provenance": []
    },
    "kernelspec": {
      "name": "python3",
      "display_name": "Python 3"
    },
    "language_info": {
      "name": "python"
    }
  },
  "cells": [
    {
      "cell_type": "markdown",
      "source": [
        "# **Узник замка Иф**\n",
        "\n",
        "Ограничение времени 1 секунда\n",
        "Ограничение памяти 64Mb\n",
        "\n",
        "Ввод стандартный ввод или input.txt\n",
        "Вывод стандартный вывод или output.txt\n",
        "\n",
        "За многие годы заточения узник замка Иф проделал в стене прямоугольное отверстие размером D×E. Замок Иф сложен из кирпичей, размером A×B×C. Определите, сможет ли узник выбрасывать кирпичи в море через это отверстие, если стороны кирпича должны быть параллельны сторонам отверстия.\n",
        "\n",
        "## **Формат ввода**\n",
        "Программа получает на вход числа A,B,C,D,E.\n",
        "## **Формат вывода**\n",
        "\n",
        "Программа должна вывести слово YES или NO.\n"
      ],
      "metadata": {
        "id": "-WEI_v9qQaT4"
      }
    },
    {
      "cell_type": "code",
      "execution_count": null,
      "metadata": {
        "id": "L_jvr-RDteek"
      },
      "outputs": [],
      "source": [
        "import sys\n",
        "\n",
        "\n",
        "def main():\n",
        "    A,B,C,D,E = int(input()), int(input()), int(input()), int(input()), int(input())\n",
        "\n",
        "    faces = [(A, B), (A, C), (B, C)]\n",
        "\n",
        "    can_pass = any((min(f) <= min(D, E) and max(f) <= max(D, E)) for f in faces)\n",
        "\n",
        "    print(\"YES\" if can_pass else \"NO\")\n",
        "\n",
        "\n",
        "\n",
        "if __name__ == '__main__':\n",
        "    main()"
      ]
    }
  ]
}