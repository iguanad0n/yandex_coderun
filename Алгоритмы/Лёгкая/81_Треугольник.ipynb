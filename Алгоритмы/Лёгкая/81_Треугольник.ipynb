{
  "nbformat": 4,
  "nbformat_minor": 0,
  "metadata": {
    "colab": {
      "provenance": []
    },
    "kernelspec": {
      "name": "python3",
      "display_name": "Python 3"
    },
    "language_info": {
      "name": "python"
    }
  },
  "cells": [
    {
      "cell_type": "markdown",
      "source": [
        "# **Треугольник**\n",
        "\n",
        "Ограничение времени 1 секунда\n",
        "Ограничение памяти 64Mb\n",
        "\n",
        "Ввод стандартный ввод или input.txt\n",
        "Вывод стандартный вывод или output.txt\n",
        "\n",
        "Даны три натуральных числа. Возможно ли построить треугольник с такими сторонами? Если это возможно, выведите строку YES, иначе выведите строку NO.\n",
        "\n",
        "Треугольник — это три точки, не лежащие на одной прямой.\n",
        "\n",
        "## **Формат ввода**\n",
        "\n",
        "Вводятся три натуральных числа.\n",
        "\n",
        "## **Формат вывода**\n",
        "\n",
        "Выведите ответ на задачу.\n",
        "\n"
      ],
      "metadata": {
        "id": "-WEI_v9qQaT4"
      }
    },
    {
      "cell_type": "code",
      "execution_count": 1,
      "metadata": {
        "colab": {
          "base_uri": "https://localhost:8080/"
        },
        "id": "L_jvr-RDteek",
        "outputId": "64302080-ae85-4cab-833f-72c9cbb7d361"
      },
      "outputs": [
        {
          "output_type": "stream",
          "name": "stdout",
          "text": [
            "1 1\n",
            "2\n"
          ]
        }
      ],
      "source": [
        "import sys\n",
        "\n",
        "\n",
        "def main():\n",
        "    a,b,c = int(input()), int(input()), int(input())\n",
        "    if (a < b + c) and (b < a + c) and (c < a + b):\n",
        "        print('YES')\n",
        "    else:\n",
        "        print('NO')\n",
        "\n",
        "\n",
        "if __name__ == '__main__':\n",
        "    main()"
      ]
    }
  ]
}