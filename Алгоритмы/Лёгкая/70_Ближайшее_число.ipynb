{
  "nbformat": 4,
  "nbformat_minor": 0,
  "metadata": {
    "colab": {
      "provenance": []
    },
    "kernelspec": {
      "name": "python3",
      "display_name": "Python 3"
    },
    "language_info": {
      "name": "python"
    }
  },
  "cells": [
    {
      "cell_type": "markdown",
      "source": [
        "# **Ближайшее число**\n",
        "\n",
        "Ограничение времени 1 секунда\n",
        "Ограничение памяти 64Mb\n",
        "\n",
        "Ввод стандартный ввод или input.txt\n",
        "Вывод стандартный вывод или output.txt\n",
        "\n",
        "Напишите программу, которая находит в массиве элемент, самый близкий по величине к данному числу.\n",
        "\n",
        "## **Формат ввода**\n",
        "В первой строке задается одно натуральное число N, не превосходящее 1000 — размер массива. Во второй строке содержатся N чисел — элементы массива, целые числа, не превосходящие по модулю 1000. В третьей строке вводится одно целое число x, не превосходящее по модулю 1000.\n",
        "\n",
        "## **Формат вывода**\n",
        "\n",
        "Вывести значение элемента массива, ближайшее к x. Если таких чисел несколько, выведите любое из них.\n"
      ],
      "metadata": {
        "id": "-WEI_v9qQaT4"
      }
    },
    {
      "cell_type": "code",
      "execution_count": null,
      "metadata": {
        "id": "L_jvr-RDteek"
      },
      "outputs": [],
      "source": [
        "import sys\n",
        "\n",
        "\n",
        "def main():\n",
        "    N = int(input())\n",
        "    arr = [int(i) for i in input().split()]\n",
        "    a = int(input())\n",
        "    result = min(arr, key = lambda x: abs(x -a))\n",
        "    print(result)\n",
        "\n",
        "if __name__ == '__main__':\n",
        "    main()"
      ]
    }
  ]
}