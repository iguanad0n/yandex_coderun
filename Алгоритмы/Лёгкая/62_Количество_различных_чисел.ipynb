{
  "nbformat": 4,
  "nbformat_minor": 0,
  "metadata": {
    "colab": {
      "provenance": []
    },
    "kernelspec": {
      "name": "python3",
      "display_name": "Python 3"
    },
    "language_info": {
      "name": "python"
    }
  },
  "cells": [
    {
      "cell_type": "markdown",
      "source": [
        "# **Количество различных чисел**\n",
        "\n",
        "Дан список чисел, который может содержать до 100000 чисел. Определите, сколько в нём встречается различных чисел.\n",
        "\n",
        "## **Формат ввода**\n",
        "\n",
        "Вводится список целых чисел. Все числа списка находятся на одной строке.\n",
        "\n",
        "## **Формат вывода**\n",
        "\n",
        "Выведите ответ на задачу."
      ],
      "metadata": {
        "id": "hw03r3BpRF1b"
      }
    },
    {
      "cell_type": "code",
      "execution_count": null,
      "metadata": {
        "id": "NRoYiVnD6FVs"
      },
      "outputs": [],
      "source": [
        "import sys\n",
        "\n",
        "def main():\n",
        "    print(len(set(input().split())))\n",
        "\n",
        "if __name__ == '__main__':\n",
        "    main()"
      ]
    }
  ]
}