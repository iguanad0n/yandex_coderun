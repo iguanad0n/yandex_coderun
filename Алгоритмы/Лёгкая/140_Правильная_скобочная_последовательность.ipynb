{
  "nbformat": 4,
  "nbformat_minor": 0,
  "metadata": {
    "colab": {
      "provenance": []
    },
    "kernelspec": {
      "name": "python3",
      "display_name": "Python 3"
    },
    "language_info": {
      "name": "python"
    }
  },
  "cells": [
    {
      "cell_type": "markdown",
      "source": [
        "# **Правильная скобочная последовательность**\n",
        "\n",
        "Ограничение времени 1 секунда\n",
        "Ограничение памяти 64Mb\n",
        "\n",
        "Ввод стандартный ввод или input.txt\n",
        "Вывод стандартный вывод или output.txt\n",
        "\n",
        "Рассмотрим последовательность, состоящую из круглых, квадратных и фигурных скобок. Программа дожна определить, является ли данная скобочная последовательность правильной.\n",
        "\n",
        "Пустая последовательность явлется правильной.\n",
        "Если A — правильная последовательность, то последовательности (A), [A], {A} — правильные.\n",
        "Если A и B — правильные последовательности, то последовательность AB — правильная.\n",
        "\n",
        "\n",
        "## **Формат ввода**\n",
        "В единственной строке записана скобочная последовательность, содержащая не более 100000 скобок.\n",
        "\n",
        "## **Формат вывода**\n",
        "\n",
        "Если данная последовательность правильная, то программа должна вывести строку yes, иначе строку no."
      ],
      "metadata": {
        "id": "-WEI_v9qQaT4"
      }
    },
    {
      "cell_type": "code",
      "execution_count": null,
      "metadata": {
        "id": "L_jvr-RDteek"
      },
      "outputs": [],
      "source": [
        "import sys\n",
        "\n",
        "\n",
        "def main():\n",
        "    sequence = input().strip()\n",
        "    stack = []\n",
        "    pairs = {')': '(', ']': '[', '}': '{'}\n",
        "    correct = True\n",
        "\n",
        "    for char in sequence:\n",
        "        if char in '([{':\n",
        "            stack.append(char)\n",
        "        elif char in ')]}':\n",
        "            if not stack or stack[-1] != pairs[char]:\n",
        "                correct = False\n",
        "                break\n",
        "            stack.pop()\n",
        "\n",
        "    if correct and not stack:\n",
        "        print(\"yes\")\n",
        "    else:\n",
        "        print(\"no\")\n",
        "\n",
        "if __name__ == '__main__':\n",
        "    main()"
      ]
    }
  ]
}