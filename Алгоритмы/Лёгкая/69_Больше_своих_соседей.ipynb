{
  "nbformat": 4,
  "nbformat_minor": 0,
  "metadata": {
    "colab": {
      "provenance": []
    },
    "kernelspec": {
      "name": "python3",
      "display_name": "Python 3"
    },
    "language_info": {
      "name": "python"
    }
  },
  "cells": [
    {
      "cell_type": "markdown",
      "source": [
        "# **Больше своих соседей**\n",
        "\n",
        "Ограничение времени 1 секунда\n",
        "Ограничение памяти 64Mb\n",
        "\n",
        "Ввод стандартный ввод или input.txt\n",
        "Вывод стандартный вывод или output.txt\n",
        "\n",
        "Дан список чисел. Определите, сколько в этом списке элементов, которые больше двух своих соседей. Выведите количество таких элементов.\n",
        "\n",
        "## **Формат ввода**\n",
        "\n",
        "Вводится список чисел. Все числа списка находятся на одной строке.\n",
        "\n",
        "## **Формат вывода**\n",
        "\n",
        "Выведите ответ на задачу.\n",
        "\n"
      ],
      "metadata": {
        "id": "-WEI_v9qQaT4"
      }
    },
    {
      "cell_type": "code",
      "execution_count": 1,
      "metadata": {
        "colab": {
          "base_uri": "https://localhost:8080/"
        },
        "id": "L_jvr-RDteek",
        "outputId": "64302080-ae85-4cab-833f-72c9cbb7d361"
      },
      "outputs": [
        {
          "output_type": "stream",
          "name": "stdout",
          "text": [
            "1 1\n",
            "2\n"
          ]
        }
      ],
      "source": [
        "import sys\n",
        "\n",
        "\n",
        "def main():\n",
        "    a = [int(i) for i in input().split()]\n",
        "    count = 0\n",
        "    for i in range(1, len(a) - 1):\n",
        "        if a[i - 1] < a[i] > a[i + 1]:\n",
        "            count += 1\n",
        "    print(count)\n",
        "\n",
        "\n",
        "if __name__ == '__main__':\n",
        "    main()"
      ]
    }
  ]
}