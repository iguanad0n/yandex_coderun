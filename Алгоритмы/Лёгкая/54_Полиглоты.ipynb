{
  "nbformat": 4,
  "nbformat_minor": 0,
  "metadata": {
    "colab": {
      "provenance": []
    },
    "kernelspec": {
      "name": "python3",
      "display_name": "Python 3"
    },
    "language_info": {
      "name": "python"
    }
  },
  "cells": [
    {
      "cell_type": "markdown",
      "source": [
        "# **Полиглоты**\n",
        "\n",
        "Ограничение времени 1 секунда\n",
        "Ограничение памяти 64Mb\n",
        "\n",
        "Ввод стандартный ввод или input.txt\n",
        "Вывод стандартный вывод или output.txt\n",
        "\n",
        "Каждый из N школьников некоторой школы знает Mi языков. Определите, какие языки знают все школьники и языки, которые знает хотя бы один из школьников.\n",
        "\n",
        "## **Формат ввода**\n",
        "Первая строка входных данных содержит количество школьников N. Далее идет N чисел Mi, после каждого из чисел идет Mi строк, содержащих названия языков, которые знает i-й школьник. Длина названий языков не превышает 1000 символов, количество различных языков не более 1000. 1≤N≤1000, 1≤Mi≤500.\n",
        "\n",
        "## **Формат вывода**\n",
        "\n",
        "В первой строке выведите количество языков, которые знают все школьники. Начиная со второй строки - список таких языков. Затем - количество языков, которые знает хотя бы один школьник, на следующих строках - список таких языков."
      ],
      "metadata": {
        "id": "-WEI_v9qQaT4"
      }
    },
    {
      "cell_type": "code",
      "execution_count": null,
      "metadata": {
        "id": "L_jvr-RDteek"
      },
      "outputs": [],
      "source": [
        "import sys\n",
        "\n",
        "\n",
        "def main():\n",
        "    N = int(input())\n",
        "    all_languages = None\n",
        "    any_languages = set()\n",
        "    for _ in range(N):\n",
        "        M = int(input())\n",
        "        languages = set()\n",
        "        for _ in range(M):\n",
        "            lang = input().strip()\n",
        "            languages.add(lang)\n",
        "            any_languages.add(lang)\n",
        "        if all_languages is None:\n",
        "            all_languages = languages\n",
        "        else:\n",
        "            all_languages &= languages\n",
        "\n",
        "\n",
        "    common_languages = sorted(all_languages)\n",
        "    any_languages = sorted(any_languages)\n",
        "\n",
        "\n",
        "    print(len(common_languages))\n",
        "    for lang in common_languages:\n",
        "        print(lang)\n",
        "\n",
        "    print(len(any_languages))\n",
        "    for lang in any_languages:\n",
        "        print(lang)\n",
        "\n",
        "\n",
        "if __name__ == '__main__':\n",
        "    main()"
      ]
    }
  ]
}