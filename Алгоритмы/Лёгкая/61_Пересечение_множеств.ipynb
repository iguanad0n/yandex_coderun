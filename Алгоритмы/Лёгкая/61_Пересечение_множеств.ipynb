{
  "nbformat": 4,
  "nbformat_minor": 0,
  "metadata": {
    "colab": {
      "provenance": []
    },
    "kernelspec": {
      "name": "python3",
      "display_name": "Python 3"
    },
    "language_info": {
      "name": "python"
    }
  },
  "cells": [
    {
      "cell_type": "markdown",
      "source": [
        "# **Пересечение множеств**\n",
        "\n",
        "Даны два списка чисел, которые могут содержать до 10000 чисел каждый. Выведите все числа, которые входят как в первый, так и во второй список в порядке возрастания.\n",
        "\n",
        "## **Формат ввода**\n",
        "\n",
        "Вводятся два списка целых чисел. Все числа каждого списка находятся на отдельной строке.\n",
        "\n",
        "## **Формат вывода**\n",
        "\n",
        "Выведите ответ на задачу."
      ],
      "metadata": {
        "id": "hw03r3BpRF1b"
      }
    },
    {
      "cell_type": "code",
      "execution_count": null,
      "metadata": {
        "id": "NRoYiVnD6FVs"
      },
      "outputs": [],
      "source": [
        "import sys\n",
        "\n",
        "def main():\n",
        "    print(len(set(input().split())))\n",
        "\n",
        "if __name__ == '__main__':\n",
        "    main()"
      ]
    }
  ]
}