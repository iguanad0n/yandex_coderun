{
  "nbformat": 4,
  "nbformat_minor": 0,
  "metadata": {
    "colab": {
      "provenance": []
    },
    "kernelspec": {
      "name": "python3",
      "display_name": "Python 3"
    },
    "language_info": {
      "name": "python"
    }
  },
  "cells": [
    {
      "cell_type": "markdown",
      "source": [
        "# **Длина кратчайшего пути**\n",
        "\n",
        "Ограничение времени 1 секунда\n",
        "Ограничение памяти 64Mb\n",
        "\n",
        "Ввод стандартный ввод или input.txt\n",
        "Вывод стандартный вывод или output.txt\n",
        "\n",
        "Дан неориентированный граф. Найдите длину минимального пути между двумя вершинами.\n",
        "\n",
        "## **Формат ввода**\n",
        "В первой строке записано целое число N (1≤N≤100) – количество вершин в графе.\n",
        "\n",
        "Далее записывается матрица смежности — N строк, в каждой из которых содержится\n",
        "N чисел 0 или 1, разделённых пробелом. Число 0 означает отсутствие ребра, а 1 — наличие ребра.\n",
        "\n",
        "В последней строке задаются номера двух вершин — начальной и конечной.\n",
        "\n",
        "Вершины нумеруются с единицы.\n",
        "\n",
        "## **Формат вывода**\n",
        "\n",
        "Выведите длину кратчайшего пути — минимальное количество ребер, которые нужно пройти.\n",
        "\n",
        "Если пути нет, нужно вывести -1."
      ],
      "metadata": {
        "id": "-WEI_v9qQaT4"
      }
    },
    {
      "cell_type": "code",
      "execution_count": null,
      "metadata": {
        "id": "L_jvr-RDteek"
      },
      "outputs": [],
      "source": [
        "import sys\n",
        "from collections import deque\n",
        "\n",
        "def main():\n",
        "    N = int(input())\n",
        "    graph = [[int(i) for i in input().split()] for _ in range(N)]\n",
        "    start, end = map(int, input().split())\n",
        "    start -= 1\n",
        "    end -= 1\n",
        "\n",
        "    visited = [False] * N\n",
        "    distance = [0] * N\n",
        "    queue = deque([start])\n",
        "    visited[start] = True\n",
        "\n",
        "    while queue:\n",
        "        v = queue.popleft()\n",
        "        for u in range(N):\n",
        "            if graph[v][u] == 1 and not visited[u]:\n",
        "                visited[u] = True\n",
        "                distance[u] = distance[v] + 1\n",
        "                queue.append(u)\n",
        "\n",
        "    print(distance[end] if visited[end] else -1)\n",
        "\n",
        "if __name__ == '__main__':\n",
        "    main()"
      ]
    }
  ]
}