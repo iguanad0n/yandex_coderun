{
  "nbformat": 4,
  "nbformat_minor": 0,
  "metadata": {
    "colab": {
      "provenance": []
    },
    "kernelspec": {
      "name": "python3",
      "display_name": "Python 3"
    },
    "language_info": {
      "name": "python"
    }
  },
  "cells": [
    {
      "cell_type": "markdown",
      "source": [
        "# **Сумма номеров**\n",
        "\n",
        "Ограничение времени 1 секунда\n",
        "Ограничение памяти 64Mb\n",
        "\n",
        "Ввод стандартный ввод или input.txt\n",
        "Вывод стандартный вывод или output.txt\n",
        "\n",
        "Вася очень любит везде искать своё счастливое число K. Каждый день он ходит в школу по улице, вдоль которой припарковано N машин. Он заинтересовался вопросом, сколько существует отрезков из подряд идущих машин таких, что сумма их номеров равна K. Помогите Васе узнать ответ на его вопрос.\n",
        "\n",
        "## **Формат ввода**\n",
        "В первой строке входных данных задаются числа N и K (1≤N≤100000, 1≤K≤10^9).\n",
        "\n",
        "Во второй строке содержится N чисел, задающих номера машин. Номера машин могут принимать значения от 0 до 100000 включительно.\n",
        "\n",
        "## **Формат вывода**\n",
        "\n",
        "Необходимо вывести одно число — количество отрезков."
      ],
      "metadata": {
        "id": "-WEI_v9qQaT4"
      }
    },
    {
      "cell_type": "code",
      "execution_count": null,
      "metadata": {
        "id": "L_jvr-RDteek"
      },
      "outputs": [],
      "source": [
        "import sys\n",
        "\n",
        "\n",
        "def main():\n",
        "    N,K = map(int, input().split())\n",
        "    numbers = [int(i) for i in input().split()]\n",
        "    left = 0\n",
        "    current_sum = 0\n",
        "    count = 0\n",
        "\n",
        "    for right in range(N):\n",
        "        current_sum += numbers[right]\n",
        "\n",
        "        while current_sum > K and left <= right:\n",
        "            current_sum -= numbers[left]\n",
        "            left += 1\n",
        "\n",
        "        if current_sum == K:\n",
        "            count += 1\n",
        "\n",
        "    print(count)\n",
        "\n",
        "if __name__ == '__main__':\n",
        "    main()"
      ]
    }
  ]
}