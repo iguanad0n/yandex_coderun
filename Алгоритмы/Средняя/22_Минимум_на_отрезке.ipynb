{
  "nbformat": 4,
  "nbformat_minor": 0,
  "metadata": {
    "colab": {
      "provenance": []
    },
    "kernelspec": {
      "name": "python3",
      "display_name": "Python 3"
    },
    "language_info": {
      "name": "python"
    }
  },
  "cells": [
    {
      "cell_type": "markdown",
      "source": [
        "# **Минимум на отрезке**\n",
        "\n",
        "Ограничение времени 1 секунда\n",
        "Ограничение памяти 64Mb\n",
        "\n",
        "Ввод стандартный ввод или input.txt\n",
        "Вывод стандартный вывод или output.txt\n",
        "\n",
        "ассмотрим последовательность целых чисел длины n.\n",
        "\n",
        "По ней двигается «окно» длины k: сначала в «окне» находятся первые k чисел, на следующем шаге в «окне» уже будут находиться k чисел, начиная со второго, и так далее до конца последовательности.\n",
        "\n",
        "Требуется для каждого положения «окна» определить минимум в нём.\n",
        "\n",
        "## **Формат ввода**\n",
        "В первой строке входных данных содержатся два натуральных числа n и k (n≤150000,k≤10000,k≤n) — длины последовательности и «окна», соответственно.\n",
        "\n",
        "На следующей строке находятся n целых чисел — сама последовательность.\n",
        "\n",
        "## **Формат вывода**\n",
        "\n",
        "Выведите n−k+1 строк. В каждой строке должно быть одно число — минимум для соответствующего положения «окна»."
      ],
      "metadata": {
        "id": "-WEI_v9qQaT4"
      }
    },
    {
      "cell_type": "code",
      "execution_count": null,
      "metadata": {
        "id": "L_jvr-RDteek"
      },
      "outputs": [],
      "source": [
        "import sys\n",
        "from collections import deque\n",
        "def main():\n",
        "    n,k = map(int, input().split())\n",
        "    sequence = list(map(int, input().split()))\n",
        "\n",
        "    deq = deque()\n",
        "    result = []\n",
        "    for i in range(n):\n",
        "        while deq and sequence[deq[-1]] >= sequence[i]:\n",
        "            deq.pop()\n",
        "        deq.append(i)\n",
        "        if deq[0] == i - k:\n",
        "            deq.popleft()\n",
        "\n",
        "        if i >= k - 1:\n",
        "            result.append(sequence[deq[0]])\n",
        "\n",
        "    for x in result:\n",
        "        print(x)\n",
        "if __name__ == '__main__':\n",
        "    main()\n"
      ]
    }
  ]
}