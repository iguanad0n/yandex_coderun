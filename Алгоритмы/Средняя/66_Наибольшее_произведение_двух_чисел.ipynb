{
  "nbformat": 4,
  "nbformat_minor": 0,
  "metadata": {
    "colab": {
      "provenance": []
    },
    "kernelspec": {
      "name": "python3",
      "display_name": "Python 3"
    },
    "language_info": {
      "name": "python"
    }
  },
  "cells": [
    {
      "cell_type": "markdown",
      "source": [
        "# **Наибольшее произведение двух чисел**\n",
        "\n",
        "Ограничение времени 1 секунда\n",
        "Ограничение памяти 64Mb\n",
        "\n",
        "Ввод стандартный ввод или input.txt\n",
        "Вывод стандартный вывод или output.txt\n",
        "\n",
        "Дан список, заполненный произвольными целыми числами. Найдите в этом списке два числа, произведение которых максимально.\n",
        "\n",
        "## **Формат ввода**\n",
        "В единственной строке через пробел вводятся целые числа — элементы списка. Список содержит не менее двух и не более 100 000 чисел. Сами элементы по модулю не превышают 1 000 000.\n",
        "\n",
        "## **Формат вывода**\n",
        "\n",
        "Выведите эти два числа в порядке неубывания."
      ],
      "metadata": {
        "id": "-WEI_v9qQaT4"
      }
    },
    {
      "cell_type": "code",
      "execution_count": null,
      "metadata": {
        "id": "L_jvr-RDteek"
      },
      "outputs": [],
      "source": [
        "import sys\n",
        "\n",
        "\n",
        "def main():\n",
        "    sequence = sorted([int(i) for i in input().split()])\n",
        "    max1, max2 = sequence[-1], sequence[-2]\n",
        "    min1, min2 = sequence[0], sequence[1]\n",
        "    if max1 * max2 >= min1 * min2:\n",
        "        print(*sorted([max1,max2]))\n",
        "    else:\n",
        "        print(*sorted([min1,min2]))\n",
        "\n",
        "if __name__ == '__main__':\n",
        "    main()"
      ]
    }
  ]
}