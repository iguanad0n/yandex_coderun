{
  "nbformat": 4,
  "nbformat_minor": 0,
  "metadata": {
    "colab": {
      "provenance": []
    },
    "kernelspec": {
      "name": "python3",
      "display_name": "Python 3"
    },
    "language_info": {
      "name": "python"
    }
  },
  "cells": [
    {
      "cell_type": "markdown",
      "source": [
        "# **Юля, Никита и задачи**\n",
        "\n",
        "Ограничение времени 1 секунда\n",
        "Ограничение памяти 64Mb\n",
        "\n",
        "Ввод стандартный ввод или input.txt\n",
        "Вывод стандартный вывод или output.txt\n",
        "\n",
        "Подготовка задач к сезону это долгий и кропотливый процесс. Юля знает, что уже готово ***A*** задач. Никита выяснил, что ещё ***B*** задач почти готовы и в ближайшее время будут добавлены в сезон. Помогите Юле и Никите узнать, сколько всего задач планируется в сезоне.\n",
        "\n",
        "## **Формат ввода**\n",
        "\n",
        "Первая строка содержит два числа A и B (0 <= A, B <= 2 * 10 ** 18), разделенные пробелом.\n",
        "\n",
        "## **Формат вывода**\n",
        "\n",
        "Выведите одно число - ***A + B*** - суммарное количество задач в сезоне.\n",
        "\n"
      ],
      "metadata": {
        "id": "-WEI_v9qQaT4"
      }
    },
    {
      "cell_type": "code",
      "execution_count": 1,
      "metadata": {
        "colab": {
          "base_uri": "https://localhost:8080/"
        },
        "id": "L_jvr-RDteek",
        "outputId": "64302080-ae85-4cab-833f-72c9cbb7d361"
      },
      "outputs": [
        {
          "output_type": "stream",
          "name": "stdout",
          "text": [
            "1 1\n",
            "2\n"
          ]
        }
      ],
      "source": [
        "import sys\n",
        "\n",
        "def main():\n",
        "    a,b = map(int,input().split())\n",
        "    print(a + b)\n",
        "\n",
        "\n",
        "if __name__ == '__main__':\n",
        "    main()"
      ]
    }
  ]
}