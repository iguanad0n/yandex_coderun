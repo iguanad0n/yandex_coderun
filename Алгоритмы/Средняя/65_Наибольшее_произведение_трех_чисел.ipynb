{
  "nbformat": 4,
  "nbformat_minor": 0,
  "metadata": {
    "colab": {
      "provenance": []
    },
    "kernelspec": {
      "name": "python3",
      "display_name": "Python 3"
    },
    "language_info": {
      "name": "python"
    }
  },
  "cells": [
    {
      "cell_type": "markdown",
      "source": [
        "# **Наибольшее произведение трех чисел**\n",
        "\n",
        "Ограничение времени 1 секунда\n",
        "Ограничение памяти 64Mb\n",
        "\n",
        "Ввод стандартный ввод или input.txt\n",
        "Вывод стандартный вывод или output.txt\n",
        "\n",
        "В данном массиве из n целых чисел найдите три числа, произведение которых максимально.\n",
        "\n",
        "## **Формат ввода**\n",
        "В единственной строке расположено n (3≤n≤10^5) чисел  ai (−10^6≤ai≤10^6) - элементы массива.\n",
        "\n",
        "## **Формат вывода**\n",
        "\n",
        "Выведите три элемента массива, дающих наибольшее произведение, в любом порядке.\n"
      ],
      "metadata": {
        "id": "-WEI_v9qQaT4"
      }
    },
    {
      "cell_type": "code",
      "execution_count": null,
      "metadata": {
        "id": "L_jvr-RDteek"
      },
      "outputs": [],
      "source": [
        "import sys\n",
        "\n",
        "def main():\n",
        "    sequence = sorted([int(i) for i in input().split()])\n",
        "    max1,max2,max3 = sequence[-1], sequence[-2], sequence[-3]\n",
        "    min1,min2 = sequence[0], sequence[1]\n",
        "    if max1 * max2 * max3 > min1 * min2 * max1:\n",
        "        print(*sorted([max1,max2,max3], reverse=True))\n",
        "    else:\n",
        "        print(*sorted([max1,min1,min2], reverse=True))\n",
        "\n",
        "if __name__ == '__main__':\n",
        "    main()"
      ]
    }
  ]
}